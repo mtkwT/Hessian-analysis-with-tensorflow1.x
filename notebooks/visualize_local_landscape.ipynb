{
 "cells": [
  {
   "cell_type": "code",
   "execution_count": null,
   "metadata": {},
   "outputs": [],
   "source": [
    "import math\n",
    "\n",
    "import matplotlib.pyplot as plt\n",
    "import seaborn as sns\n",
    "from mpl_toolkits.mplot3d import Axes3D\n",
    "%matplotlib inline\n",
    "import numpy as np\n",
    "from tqdm import tqdm"
   ]
  },
  {
   "cell_type": "code",
   "execution_count": null,
   "metadata": {},
   "outputs": [],
   "source": [
    "class Ploter_3D():\n",
    "    def __init__(self, x, y, z):\n",
    "        self.x = x \n",
    "        self.y = y\n",
    "        self. z = z\n",
    "        \n",
    "        self.fig = plt.figure(figsize=(12, 8))\n",
    "        self.axis = self.fig.add_subplot(111, projection='3d')\n",
    "\n",
    "    def plot_3d(self, z_min, z_max, title, fontsize, filename, is_saved=False):\n",
    "        self.axis.set_xlabel('c1', fontsize=fontsize)\n",
    "        self.axis.set_ylabel('c2', fontsize=fontsize)\n",
    "        self.axis.set_zlabel('cross entropy', fontsize=fontsize)\n",
    "        self.axis.set_title(title, fontsize=fontsize)\n",
    "        self.axis.tick_params(labelsize=12)\n",
    "\n",
    "        X, Y = np.meshgrid(self.x, self.y)\n",
    "        Z = self.z\n",
    "\n",
    "        self.axis.plot_surface(X, Y, Z, shade=True, cmap='plasma')\n",
    "        self.axis.set_zlim([z_min, z_max])\n",
    "        if is_saved:\n",
    "            plt.savefig(filename)\n",
    "        plt.show()"
   ]
  },
  {
   "cell_type": "code",
   "execution_count": null,
   "metadata": {},
   "outputs": [],
   "source": [
    "c1 = np.array([(_ / 100) for _ in range(-30, 31, 5)])\n",
    "c2 = np.array([(_ / 100) for _ in range(-30, 31, 5)])"
   ]
  },
  {
   "cell_type": "markdown",
   "metadata": {},
   "source": [
    "### batch size 64, 128, 256, 512, 1024"
   ]
  },
  {
   "cell_type": "code",
   "execution_count": null,
   "metadata": {},
   "outputs": [],
   "source": [
    "train_surface_values_64 = \\\n",
    "np.load('../results/CIFAR10_SGD_SEED794_2019-11-09-08-26-51/\\\n",
    "surface_values_train_cifar10_SGD_lr0.01_batchsize64_epochsize100_seed794.npy')"
   ]
  },
  {
   "cell_type": "code",
   "execution_count": null,
   "metadata": {},
   "outputs": [],
   "source": [
    "train_surface_values_128 = \\\n",
    "np.load('../results/CIFAR10_SGD_SEED794_2019-11-09-08-26-51/\\\n",
    "surface_values_train_cifar10_SGD_lr0.01_batchsize128_epochsize100_seed794.npy')"
   ]
  },
  {
   "cell_type": "code",
   "execution_count": null,
   "metadata": {},
   "outputs": [],
   "source": [
    "train_surface_values_256 = \\\n",
    "np.load('../results/CIFAR10_SGD_SEED794_2019-11-09-08-26-51/\\\n",
    "surface_values_train_cifar10_SGD_lr0.01_batchsize256_epochsize100_seed794.npy')"
   ]
  },
  {
   "cell_type": "code",
   "execution_count": null,
   "metadata": {},
   "outputs": [],
   "source": [
    "train_surface_values_512 = \\\n",
    "np.load('../results/CIFAR10_SGD_SEED794_2019-11-09-08-26-51/\\\n",
    "surface_values_train_cifar10_SGD_lr0.01_batchsize512_epochsize100_seed794.npy')"
   ]
  },
  {
   "cell_type": "code",
   "execution_count": null,
   "metadata": {},
   "outputs": [],
   "source": [
    "train_surface_values_1024 = \\\n",
    "np.load('../results/CIFAR10_SGD_SEED794_2019-11-09-08-26-51/\\\n",
    "surface_values_train_cifar10_SGD_lr0.01_batchsize1024_epochsize100_seed794.npy')"
   ]
  },
  {
   "cell_type": "code",
   "execution_count": null,
   "metadata": {},
   "outputs": [],
   "source": [
    "ploter = Ploter_3D(c1, c2, train_surface_values_64)\n",
    "ploter.plot_3d(z_min=0, z_max=0.5, title='CIFAR-10 batch_size 64', fontsize=20,\n",
    "               filename='cifar10_sgd_train_loss_surface_batchsize64.png', is_saved=True)\n",
    "\n",
    "ploter = Ploter_3D(c1, c2, train_surface_values_128)\n",
    "ploter.plot_3d(z_min=0, z_max=0.5, title='CIFAR-10 batch_size 128', fontsize=20,\n",
    "               filename='cifar10_sgd_train_loss_surface_batchsize128.png', is_saved=True)\n",
    "\n",
    "ploter = Ploter_3D(c1, c2, train_surface_values_256)\n",
    "ploter.plot_3d(z_min=0, z_max=0.5, title='CIFAR-10 batch_size 256', fontsize=20,\n",
    "               filename='cifar10_sgd_train_loss_surface_batchsize256.png', is_saved=True)\n",
    "\n",
    "ploter = Ploter_3D(c1, c2, train_surface_values_512)\n",
    "ploter.plot_3d(z_min=0, z_max=0.5, title='CIFAR-10 batch_size 512', fontsize=20,\n",
    "               filename='cifar10_sgd_train_loss_surface_batchsize512.png', is_saved=True)\n",
    "\n",
    "ploter = Ploter_3D(c1, c2, train_surface_values_1024)\n",
    "ploter.plot_3d(z_min=0, z_max=0.5, title='CIFAR-10 batch_size 1024', fontsize=20,\n",
    "               filename='cifar10_sgd_train_loss_surface_batchsize1024.png', is_saved=True)"
   ]
  },
  {
   "cell_type": "markdown",
   "metadata": {},
   "source": [
    "### ignore output"
   ]
  }
 ],
 "metadata": {
  "kernelspec": {
   "display_name": "Python 3",
   "language": "python",
   "name": "python3"
  },
  "language_info": {
   "codemirror_mode": {
    "name": "ipython",
    "version": 3
   },
   "file_extension": ".py",
   "mimetype": "text/x-python",
   "name": "python",
   "nbconvert_exporter": "python",
   "pygments_lexer": "ipython3",
   "version": "3.7.5"
  }
 },
 "nbformat": 4,
 "nbformat_minor": 2
}
