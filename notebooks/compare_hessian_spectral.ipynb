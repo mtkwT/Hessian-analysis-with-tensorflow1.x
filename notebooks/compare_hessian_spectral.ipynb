{
 "cells": [
  {
   "cell_type": "code",
   "execution_count": null,
   "metadata": {},
   "outputs": [],
   "source": [
    "import math\n",
    "%matplotlib inline\n",
    "import matplotlib.pyplot as plt\n",
    "import numpy as np\n",
    "from scipy import linalg\n",
    "from typing import List"
   ]
  },
  {
   "cell_type": "code",
   "execution_count": null,
   "metadata": {},
   "outputs": [],
   "source": [
    "def create_top_k_eigenvalues(\n",
    "    hesse_matrix: list, \n",
    "    k: int) -> List[float]:\n",
    "    top_k_eigenvalues = linalg.eigh(hesse_matrix, eigvals=(hesse_matrix.shape[0] -k, hesse_matrix.shape[0]-1))[0][::-1]\n",
    "    return top_k_eigenvalues"
   ]
  },
  {
   "cell_type": "code",
   "execution_count": null,
   "metadata": {},
   "outputs": [],
   "source": [
    "def draw_objective(\n",
    "    y_list,\n",
    "    fontsize, tics_label_size,\n",
    "    labels, title,\n",
    "    x_label, y_label,\n",
    "    filename,\n",
    "    is_log_scale=True):\n",
    "    x = [_+1 for _ in range(len(y_list[0]))]\n",
    "    \n",
    "    fig = plt.figure(figsize=(15,10))\n",
    "    \n",
    "    ax = fig.add_subplot(1,1,1)\n",
    "    \n",
    "    ax.set_title(title, fontsize=fontsize)\n",
    "    ax.set_xlabel(x_label, fontsize=fontsize)\n",
    "    ax.set_ylabel(y_label, fontsize=fontsize)\n",
    "    ax.tick_params(labelsize=tics_label_size)\n",
    "    \n",
    "    if is_log_scale:\n",
    "        ax.set_yscale('log')\n",
    "    for idx, (y, label) in enumerate(zip(y_list, labels)):\n",
    "        ax.plot(x, y, label=label, lw=3)\n",
    "        \n",
    "    ax.legend(fontsize=fontsize)\n",
    "    fig.savefig(filename)"
   ]
  },
  {
   "cell_type": "code",
   "execution_count": null,
   "metadata": {},
   "outputs": [],
   "source": [
    "train_hessian_matrix_128 = \\\n",
    "np.load('../results/CIFAR10_SGD_SEED794_2019-11-09-08-26-51/\\\n",
    "hessian_train_cifar10_SGD_lr0.01_batchsize128_epochsize100_seed794.npy')[-1]"
   ]
  },
  {
   "cell_type": "code",
   "execution_count": null,
   "metadata": {},
   "outputs": [],
   "source": [
    "train_hessian_matrix_256 = \\\n",
    "np.load('../results/CIFAR10_SGD_SEED794_2019-11-09-08-26-51/\\\n",
    "hessian_train_cifar10_SGD_lr0.01_batchsize256_epochsize100_seed794.npy')[-1]"
   ]
  },
  {
   "cell_type": "code",
   "execution_count": null,
   "metadata": {},
   "outputs": [],
   "source": [
    "train_hessian_matrix_512 = \\\n",
    "np.load('../results/CIFAR10_SGD_SEED794_2019-11-09-08-26-51/\\\n",
    "hessian_train_cifar10_SGD_lr0.01_batchsize512_epochsize100_seed794.npy')[-1]"
   ]
  },
  {
   "cell_type": "code",
   "execution_count": null,
   "metadata": {},
   "outputs": [],
   "source": [
    "train_hessian_matrix_1024 = \\\n",
    "np.load('../results/CIFAR10_SGD_SEED794_2019-11-09-08-26-51/\\\n",
    "hessian_train_cifar10_SGD_lr0.01_batchsize1024_epochsize100_seed794.npy')[-1]"
   ]
  },
  {
   "cell_type": "code",
   "execution_count": null,
   "metadata": {},
   "outputs": [],
   "source": [
    "top20eig_hessian_matrix_128 = create_top_k_eigenvalues(train_hessian_matrix_128, 20)"
   ]
  },
  {
   "cell_type": "code",
   "execution_count": null,
   "metadata": {},
   "outputs": [],
   "source": [
    "top20eig_hessian_matrix_256 = create_top_k_eigenvalues(train_hessian_matrix_256, 20)"
   ]
  },
  {
   "cell_type": "code",
   "execution_count": null,
   "metadata": {},
   "outputs": [],
   "source": [
    "top20eig_hessian_matrix_512 = create_top_k_eigenvalues(train_hessian_matrix_512, 20)"
   ]
  },
  {
   "cell_type": "code",
   "execution_count": null,
   "metadata": {},
   "outputs": [],
   "source": [
    "top20eig_hessian_matrix_1024 = create_top_k_eigenvalues(train_hessian_matrix_1024, 20)"
   ]
  },
  {
   "cell_type": "code",
   "execution_count": null,
   "metadata": {},
   "outputs": [],
   "source": [
    "top20eig_list = [top20eig_hessian_matrix_128,\n",
    "                 top20eig_hessian_matrix_256,\n",
    "                 top20eig_hessian_matrix_512,\n",
    "                 top20eig_hessian_matrix_1024]"
   ]
  },
  {
   "cell_type": "code",
   "execution_count": null,
   "metadata": {},
   "outputs": [],
   "source": [
    "batch_size_list = [\"batch_size = {}\".format(2**_) for _ in range(7,11)]\n",
    "batch_size_list"
   ]
  },
  {
   "cell_type": "code",
   "execution_count": null,
   "metadata": {},
   "outputs": [],
   "source": [
    "draw_objective(\n",
    "    y_list=top20eig_list,\n",
    "    fontsize=20, tics_label_size=13,\n",
    "    labels=batch_size_list, title='Hessian spectrum',\n",
    "    x_label='i-th eigenvalue', y_label='eigenvalue', \n",
    "    filename='hessian_spectral.png',\n",
    "    is_log_scale=True)"
   ]
  },
  {
   "cell_type": "code",
   "execution_count": null,
   "metadata": {},
   "outputs": [],
   "source": []
  }
 ],
 "metadata": {
  "kernelspec": {
   "display_name": "Python 3",
   "language": "python",
   "name": "python3"
  },
  "language_info": {
   "codemirror_mode": {
    "name": "ipython",
    "version": 3
   },
   "file_extension": ".py",
   "mimetype": "text/x-python",
   "name": "python",
   "nbconvert_exporter": "python",
   "pygments_lexer": "ipython3",
   "version": "3.7.5"
  }
 },
 "nbformat": 4,
 "nbformat_minor": 2
}
